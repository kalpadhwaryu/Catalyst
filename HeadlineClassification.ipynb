{
 "cells": [
  {
   "cell_type": "markdown",
   "metadata": {},
   "source": [
    "# Machine Learning Model"
   ]
  },
  {
   "cell_type": "code",
   "execution_count": 104,
   "metadata": {},
   "outputs": [],
   "source": [
    "import pandas as pd\n",
    "import numpy as np\n",
    "import re\n",
    "from nltk.tokenize import word_tokenize as wt\n",
    "from nltk.corpus import stopwords\n",
    "from nltk.stem.porter import PorterStemmer\n",
    "from spellchecker import SpellChecker\n",
    "from sklearn.feature_extraction.text import CountVectorizer\n",
    "from sklearn.model_selection import train_test_split\n",
    "from sklearn.naive_bayes import BernoulliNB\n",
    "from sklearn.naive_bayes import MultinomialNB\n",
    "from sklearn.metrics import confusion_matrix, classification_report, accuracy_score"
   ]
  },
  {
   "cell_type": "code",
   "execution_count": 105,
   "metadata": {},
   "outputs": [],
   "source": [
    "dataset = pd.read_csv(r'HeadlineClassification.csv', encoding='ISO-8859-1')"
   ]
  },
  {
   "cell_type": "code",
   "execution_count": 106,
   "metadata": {},
   "outputs": [
    {
     "name": "stdout",
     "output_type": "stream",
     "text": [
      "No. of rows  99\n"
     ]
    }
   ],
   "source": [
    "stemmer = PorterStemmer()\n",
    "spell = SpellChecker()\n",
    "data = []\n",
    "print(\"No. of rows \", dataset.shape[0])"
   ]
  },
  {
   "cell_type": "code",
   "execution_count": 107,
   "metadata": {},
   "outputs": [],
   "source": [
    "for i in range(dataset.shape[0]):\n",
    "    headline = dataset.iloc[i, 0] \n",
    "    # removing all symbols other than alphabets\n",
    "    headline = re.sub('[^A-Za-z]', ' ', headline)\n",
    "    headline = headline.lower()\n",
    "    tokenized_headline = wt(headline)  # word tokenization\n",
    "\n",
    "    # stopword removal and stemming\n",
    "    headline_processed = []\n",
    "    for word in tokenized_headline:\n",
    "        if word not in set(stopwords.words('english')):\n",
    "            headline_processed.append(spell.correction((stemmer.stem(word))))\n",
    "\n",
    "    headline_text = \" \".join(headline_processed)\n",
    "    # data is a list, where each list variable containing sentence\n",
    "    data.append(headline_text)"
   ]
  },
  {
   "cell_type": "code",
   "execution_count": 108,
   "metadata": {},
   "outputs": [],
   "source": [
    "# creating the feature matrix\n",
    "matrix = CountVectorizer(max_features=1000)\n",
    "#matrix = CountVectorizer()\n",
    "# input data used for learning and building BOW model\n",
    "X = matrix.fit_transform(data).toarray()\n",
    "y = dataset.iloc[:, 1]  # filters all rows : from 1th column \"output labels\""
   ]
  },
  {
   "cell_type": "code",
   "execution_count": 109,
   "metadata": {},
   "outputs": [],
   "source": [
    "# split train and test data\n",
    "X_train, X_test, y_train, y_test = train_test_split(\n",
    "    X, y,random_state=0)  # from sklearn.model_selection"
   ]
  },
  {
   "cell_type": "markdown",
   "metadata": {},
   "source": [
    "Bernoulli Naive Bayes Classification"
   ]
  },
  {
   "cell_type": "code",
   "execution_count": 113,
   "metadata": {},
   "outputs": [
    {
     "data": {
      "text/plain": [
       "BernoulliNB()"
      ]
     },
     "execution_count": 113,
     "metadata": {},
     "output_type": "execute_result"
    }
   ],
   "source": [
    "classifier = BernoulliNB()\n",
    "classifier.fit(X_train, y_train)"
   ]
  },
  {
   "cell_type": "code",
   "execution_count": 114,
   "metadata": {},
   "outputs": [
    {
     "name": "stdout",
     "output_type": "stream",
     "text": [
      "test data result y_pred \n",
      " ['Left' 'Left' 'Left' 'Right' 'Left' 'Left' 'Left' 'Right' 'Left' 'Right'\n",
      " 'Left' 'Right' 'Left' 'Left' 'Left' 'Right' 'Left' 'Left' 'Left' 'Left'\n",
      " 'Left' 'Right' 'Left' 'Left' 'Left']\n"
     ]
    }
   ],
   "source": [
    "# predict class\n",
    "y_pred = classifier.predict(X_test)\n",
    "print(\"test data result y_pred \\n\", y_pred)"
   ]
  },
  {
   "cell_type": "code",
   "execution_count": 115,
   "metadata": {},
   "outputs": [
    {
     "name": "stdout",
     "output_type": "stream",
     "text": [
      "Confusion Matrix \n",
      " [[12  1]\n",
      " [ 7  5]]\n",
      "Classificaiton Report is \n",
      "               precision    recall  f1-score   support\n",
      "\n",
      "        Left       0.63      0.92      0.75        13\n",
      "       Right       0.83      0.42      0.56        12\n",
      "\n",
      "    accuracy                           0.68        25\n",
      "   macro avg       0.73      0.67      0.65        25\n",
      "weighted avg       0.73      0.68      0.66        25\n",
      "\n",
      "last accuracy  0.68\n",
      "y_result  ['Left']\n"
     ]
    }
   ],
   "source": [
    "# Confusion matrix\n",
    "cm = confusion_matrix(y_test, y_pred)\n",
    "print(\"Confusion Matrix \\n\", cm)\n",
    "cr = classification_report(y_test, y_pred)\n",
    "print(\"Classificaiton Report is \\n\", cr)\n",
    "accuracy = accuracy_score(y_test, y_pred)\n",
    "print(\"last accuracy \", accuracy)\n",
    "# Testing with Actual data\n",
    "myvector = matrix.transform([\"BJP remark on opposition shows its arrogance:BSP\"]).toarray()\n",
    "y_result = classifier.predict(myvector)\n",
    "print(\"y_result \", y_result)"
   ]
  },
  {
   "cell_type": "markdown",
   "metadata": {},
   "source": [
    "Multinomial Naive Bayes Classification"
   ]
  },
  {
   "cell_type": "code",
   "execution_count": 116,
   "metadata": {},
   "outputs": [
    {
     "data": {
      "text/plain": [
       "MultinomialNB()"
      ]
     },
     "execution_count": 116,
     "metadata": {},
     "output_type": "execute_result"
    }
   ],
   "source": [
    "# Naive Bayes\n",
    "# classifier = BernoulliNB() # if X data is majorly binary\n",
    "# classifier = MultinomialNB()# For multiclass classificaiton\n",
    "# suitable if data is continuous and assumed to be on Gaussian distribution\n",
    "classifier = MultinomialNB()\n",
    "classifier.fit(X_train, y_train)  # model training"
   ]
  },
  {
   "cell_type": "code",
   "execution_count": 117,
   "metadata": {},
   "outputs": [
    {
     "name": "stdout",
     "output_type": "stream",
     "text": [
      "test data result y_pred \n",
      " ['Left' 'Left' 'Left' 'Right' 'Left' 'Left' 'Left' 'Right' 'Left' 'Right'\n",
      " 'Left' 'Right' 'Left' 'Right' 'Left' 'Right' 'Left' 'Left' 'Left' 'Left'\n",
      " 'Left' 'Right' 'Left' 'Left' 'Left']\n"
     ]
    }
   ],
   "source": [
    "# predict class\n",
    "y_pred = classifier.predict(X_test)\n",
    "print(\"test data result y_pred \\n\", y_pred)"
   ]
  },
  {
   "cell_type": "code",
   "execution_count": 112,
   "metadata": {},
   "outputs": [
    {
     "name": "stdout",
     "output_type": "stream",
     "text": [
      "Confusion Matrix \n",
      " [[11  2]\n",
      " [ 7  5]]\n",
      "Classificaiton Report is \n",
      "               precision    recall  f1-score   support\n",
      "\n",
      "        Left       0.61      0.85      0.71        13\n",
      "       Right       0.71      0.42      0.53        12\n",
      "\n",
      "    accuracy                           0.64        25\n",
      "   macro avg       0.66      0.63      0.62        25\n",
      "weighted avg       0.66      0.64      0.62        25\n",
      "\n",
      "last accuracy  0.64\n",
      "y_result  ['Right']\n"
     ]
    }
   ],
   "source": [
    "# Confusion matrix\n",
    "cm = confusion_matrix(y_test, y_pred)\n",
    "print(\"Confusion Matrix \\n\", cm)\n",
    "cr = classification_report(y_test, y_pred)\n",
    "print(\"Classificaiton Report is \\n\", cr)\n",
    "accuracy = accuracy_score(y_test, y_pred)\n",
    "print(\"last accuracy \", accuracy)\n",
    "# Testing with Actual data\n",
    "myvector = matrix.transform([\"Despite US Finding Proof of Bribery in Indian Railways, Modi Government Has Taken No Action\"]).toarray()\n",
    "y_result = classifier.predict(myvector)\n",
    "print(\"y_result \", y_result)"
   ]
  },
  {
   "cell_type": "markdown",
   "metadata": {},
   "source": [
    "# Deep Learning Model"
   ]
  },
  {
   "cell_type": "code",
   "execution_count": 35,
   "metadata": {},
   "outputs": [],
   "source": [
    "import pandas as pd\n",
    "from tensorflow.keras.preprocessing.text import Tokenizer\n",
    "from tensorflow.keras.models import Sequential\n",
    "from tensorflow.keras.layers import Dense\n",
    "from tensorflow.keras.preprocessing.sequence import pad_sequences"
   ]
  },
  {
   "cell_type": "code",
   "execution_count": 36,
   "metadata": {},
   "outputs": [],
   "source": [
    "data = pd.read_csv(r'HeadlineClassification.csv', encoding='ISO-8859-1')"
   ]
  },
  {
   "cell_type": "code",
   "execution_count": 43,
   "metadata": {},
   "outputs": [],
   "source": [
    "df = data[[\"Headline\", \"Leaning\"]]"
   ]
  },
  {
   "cell_type": "code",
   "execution_count": 44,
   "metadata": {},
   "outputs": [
    {
     "name": "stdout",
     "output_type": "stream",
     "text": [
      "(array([0, 0, 0, 0, 0, 0, 0, 0, 0, 0, 0, 0, 0, 0, 0, 0, 0, 0, 0, 0, 0, 0,\n",
      "       0, 0, 0, 0, 0, 0, 0, 0, 0, 0, 0, 0, 0, 0, 0, 0, 0, 0, 0, 0, 0, 0,\n",
      "       0, 0, 0, 0, 0, 1, 1, 1, 1, 1, 1, 1, 1, 1, 1, 1, 1, 1, 1, 1, 1, 1,\n",
      "       1, 1, 1, 1, 1, 1, 1, 1, 1, 1, 1, 1, 1, 1, 1, 1, 1, 1, 1, 1, 1, 1,\n",
      "       1, 1, 1, 1, 1, 1, 1, 1, 1, 1, 1], dtype=int64), Index(['Left', 'Right'], dtype='object'))\n"
     ]
    }
   ],
   "source": [
    "df[\"Leaning\"].value_counts()\n",
    "leaning_label = df.Leaning.factorize()\n",
    "print(leaning_label)"
   ]
  },
  {
   "cell_type": "code",
   "execution_count": 45,
   "metadata": {},
   "outputs": [
    {
     "name": "stdout",
     "output_type": "stream",
     "text": [
      "['Police In Rajasthan Town Accused Of Thrashing Man In Custody'\n",
      " 'Centre Withdraws Offer To Sell 53% Stake In Bharat Petroleum Corp'\n",
      " 'Afghan Man With Medicines Worth ? 64 Lakh Detained At Delhi Airport'\n",
      " 'After Texas School Shooting, Ex FBI Agent Says \"Ballistic Blankets\" Should Be Installed On Walls'\n",
      " 'PM Arrives In Chennai To Warm Welcome, Will Launch Infra Projects'\n",
      " 'Bhagwant Mann Meets British Envoy, Discusses Tie-Ups In Education, IT'\n",
      " \"2 Pakistani Fishermen Detained, 4 Fishing Boats Seized In Gujarat's Bhuj\"\n",
      " 'Only 58% School Teachers Took Part In Discussions On NEP, 65% Overloaded With Work: Education Ministry Survey'\n",
      " 'Gyanvapi Case: District Court To Continue Hearing On Maintainability On Monday'\n",
      " \"Money Is Making Some Nations Tolerant To Russia's Aggression: Ukraine's Zelensky\"\n",
      " \"Key Accused In Jammu-Kashmir's Sunjwan Attack Arrested: Probe Agency\"\n",
      " \"Delhi's New Civic Body Appoints 3 Deputy Commissioners, 22 Zonal Heads\"\n",
      " 'High Court Permits JNU Student Sharjeel Imam To Approach Trial Court For Bail'\n",
      " \"In Mamata Banerjee vs Governor, Bengal's Fresh Move May Be New Flashpoint\"\n",
      " 'Himanta Biswa Sarma Bragged About Buying PPE Kits From China. But an RTI Reply Says His Govt Never Did.'\n",
      " \"If Kartarpur Could be Reopened, Why Must Sharda Remain a Distant Dream?' ask Kashmiri Pandits\"\n",
      " 'Allahabad High Court Quashes UP FIR Against The Wire for Report on Farm Law Protester Death'\n",
      " 'By Keeping Article 370 Matter Pending Indefinitely, the Supreme Court Is Embarrassing Itself'\n",
      " \"After Biting the Bullet on Fuel, Fertiliser and LPG, What Will be the Impact on Centre's Finances?\"\n",
      " 'Will Riding on Soft Hindutva Politics Help KCR Retain Telangana Without AIMIM\\x92s Support?'\n",
      " 'Kapil Sibal the Latest Casualty for Congress as Sonia Gandhi Evades Turmoil Over Leadership'\n",
      " 'Pakistan PM Condemns Yasin Malik\\x92s Sentencing, Summons Indian Diplomat in Protest Against Verdict'\n",
      " 'Sri Lanka: Prime Minister Ranil Wickremesinghe Retains Finance Minister Portfolio'\n",
      " \"Maharashtra BJP Chief Asks NCP MP Supriya Sule to 'Go Home and Cook'\"\n",
      " 'How a Delhi Court Schooled Police on Free Speech'\n",
      " 'J&K: Clashes Erupt in Srinagar After NIA Court Sentences Yasin Malik to Life in Terror Funding Case'\n",
      " \"Gyanvapi: New Suit for Permission to Worship 'Shivling' Transferred to Fast-Track Court\"\n",
      " 'Discrimination Against LGBTQI+ Persons Has Economic Cost, Says ILO Report'\n",
      " 'SC Orders Police Against Abuse of Sex Workers, Media from Publishing Their Pictures'\n",
      " 'Kerala Court Cancels Bail Granted to PC George in Hate Speech Case'\n",
      " \"Punjab: AAP Celebrates Health Minister\\x92s Sacking as 'Masterstroke', Opposition Calls it a Stunt \"\n",
      " 'At RSS Meet, Uttarakhand CM Says State to Formulate Uniform Civil Code Soon'\n",
      " \"Jailed in Elgar Parishad Case, Gorakhe Goes on Indefinite Hunger Strike Over 'Harassment'\"\n",
      " \"Bengaluru Police Launch New 'Anti-Bangladeshi' Drive, Creating Panic for Bengali Muslims\"\n",
      " 'Power Ministry Cuts Domestic Coal Supply to Power Plants, Tells Utilities to Import More'\n",
      " 'Gujarat HC Denies Bail to Sword-Wielding Accused in Ram Navami Violence Case'\n",
      " 'Kapil Sibal\\x92s Congress Exit: Questioning the Gandhis Can Be Dangerous'\n",
      " 'Akhilesh, Keshav Maurya Trade Barbs in UP Assembly; Yogi Supports His Deputy'\n",
      " '\\x91If \\x91Ram Rajya\\x92 Comes, Will Completely Remove Urdu\\x92: Telangana BJP Chief'\n",
      " \"Pakistan Army Deployed in Islamabad's 'Red Zone' Amid Imran Khan's 'Azadi March'\"\n",
      " \"Soaring Prices of Gas, Food Items Burning a Hole in Average Indian's Pocket\"\n",
      " 'Bihar Caste Census: Nitish Kumar\\x92s Goal Is To Keep the BJP Guessing'\n",
      " 'Gyanvapi: New Suit Seeking Removal of Mosque Transferred to Fast Track Court'\n",
      " 'Terror Funding Case: NIA Court Hands Life Sentence to JKLF Chief Yasin Malik'\n",
      " 'Qutub Minar Row: A Battle Between Places of Worship Act & Ancient Monuments Act?'\n",
      " \"Awards Won't Fill Our Stomachs, Want Salary Hike': ASHA Workers on WHO Honour\"\n",
      " \"Right to Dignified Life': SC Issues Directions on Treatment of Sex Workers\"\n",
      " \"Transgender Person Misidentified as Texas School Shooter in US' Uvalde\"\n",
      " 'Jack Dorsey Out: Twitter Co-founder & Former CEO Steps Down From Board'\n",
      " 'Here is what happens when a millennial Bengali, raised in a Communist family, reads \\x93How I Became a Hindu\\x94 by Sita Ram Goel'\n",
      " '30000 men slaughtered in 6 hours: When Nadir Shah of Iran wreaked havoc in Delhi, and Mughals had to give away Afghanistan'\n",
      " 'Eight years of PM Narendra Modi: Here is a wishlist of 8 things for the next 2 years before the 2024 elections'\n",
      " 'Pakistani journalist cites Jogendra Nath Mandal to boast about Jinnah\\x92s secularism: Here is why their first law minister had returned to India'\n",
      " 'Despite court orders to demolish illegal tomb of Afzal Khan at Pratapgad, Maharashtra govt continues to protect it: Here is what we know about it'\n",
      " 'Dear Liberals, the blood of Texas children is on your already blood-soaked hands: Here is how'\n",
      " 'Delhi anti-Hindu riots accused Shahrukh Pathan, who had fired bullets at policeman gets hero\\x92s welcome during 4-hour parole: Watch'\n",
      " 'Germany recognises Bharat Biotech\\x92s Covid-19 vaccine Covaxin, removes testing requirements for travel from next month'\n",
      " 'Chandigarh jail bomb case: NIA to probe after police find \\x91Khalistan Action Force\\x92 printouts, bombs wrapped in Pakistani newspaper from the site'\n",
      " 'Yasin Malik gets life imprisonment: How Leftists have always been the ideological backbones of Islamists and how that saga continues'\n",
      " '\\x91Sanghis cannot be friends\\x92: Read how students and teachers of Azim Premji University led a mob against a Hindu student, accusing him of Islamophobia and getting him suspended'\n",
      " '8 years of Modi government: How PM Modi radically transformed India\\x92s foreign policy'\n",
      " 'While media projects Telangana CM KCR as a conquering hero after his \\x91national tour\\x92, here is the truth of the overhyped Delhi visit'\n",
      " 'The awkward silence of Rahul Gandhi at Cambridge University and the uncomfortable truth it tells us about the Congress Prince'\n",
      " 'The tale of two conclaves over the weekend: Ideas for India and India Ideas'\n",
      " 'Muslim boy chants for death of Hindus at PFI rally: From Khilafat to ISIS, how Kerala has evolved as the fountainhead of Islamism in India'\n",
      " 'Rahul Gandhi skipped due procedure for MPs, did not inform govt about his controversial UK trip'\n",
      " 'Maharashtra: ED raids 7 properties linked to Shiv Sena minister Anil Parab, Dapoli resort land under scanner'\n",
      " 'Election Commission deletes 87 political parties from its list for bogus donation, tax fraud, violating norms etc, 2000+ others given time to comply'\n",
      " '\\x91They meet only PM\\x92: Rahul Gandhi alleges social media companies are not neutral, claims Facebook supports BJP'\n",
      " 'Violence erupts in Srinagar as Yasin Malik is sentenced to life imprisonment, Islamists pelt stones, clash with security forces'\n",
      " 'From praising China to comparing India\\x92s federation to EU, Rahul Gandhi steps up his sub-nationalism rhetoric in his speech at Cambridge University'\n",
      " 'TMC leader Saket Gokhale peddles misinformation about recent reduction in petrol, diesel prices'\n",
      " 'Bihar: R C P Singh\\x92s Possible Rift With Parent Party JD(U) Causes Delay In His Renomination To Rajya Sabha'\n",
      " 'Prime Minister Modi To Lay Foundation Stone For Redevelopment Of Five Railway Stations In Tamil Nadu'\n",
      " 'Election Commission Takes Graded Action Against 2,100 Unrecognised Political Parties'\n",
      " 'Will Abolish Minority Reservations If BJP Comes To Power In Telangana: State BJP President Bandi Sanjay Kumar'\n",
      " 'Railways Promote Sambalpuri Saree To Kanchipuram Saree And Jaipuri Rajai To Madhubani Paintings Sale At Over 70 Stations'\n",
      " \"Bharat Drone Mahotsav 2022': PM Modi To Inaugurate India's Biggest Drone Festival Tomorrow\"\n",
      " 'To Decongest Goa Roads, State Govt Mulls Operating More Inland Waterway Routes'\n",
      " \"Attaboy, Jaishankar: It's Time India Learnt To Weaponise Human Rights\"\n",
      " 'Master Tara Singh And The Partition Of Punjab: How His Leadership Delivered East Punjab For India And Saved The Sikh Faith'\n",
      " 'Ambedkar Criticised Muslims For Rioting Over Hindu Processions; Nothing Has Changed A Century Later'\n",
      " 'In Third Big Exit After Chintan Shivir, Now Kapil Sibal Leaves Congress'\n",
      " 'Conversation With Siddhartha Verma, Cambridge Scholar Who Educated Rahul Gandhi On Nationhood'\n",
      " \"If Muslims Come Asking For Land Granted By Tipu To Temples, Will Hindus Return?', Asks Karnataka Former CM H D Kumaraswamy\"\n",
      " 'Delhi: ASI Opposes In Court Plea Seeking Restoration Of Hindu And Jain Deities Inside Qutub Minar Complex'\n",
      " 'Punjab: CM Mann Sacks Health Minister Vijay Singla Over Corruption Charges, Says He Was Demanding 1% Kickback In All Department Tenders'\n",
      " 'J&K: Three Pakistani Terrorists Gunned Down By Security Forces In Baramulla Encounter'\n",
      " \"DU's Hindu College Professor Ratan Lal Arrested For Objectionable Post On Shivling Found Inside Gyanvapi Complex\"\n",
      " 'As Modi Government Turns 8, A Look At Key Socio-economic Reforms Introduced By The Centre'\n",
      " 'West Bengal Guv To Be Replaced By CM Mamata Banerjee As Chancellor Of State Universities'\n",
      " \"Shiv Sena Leaders Meet Maharashtra CM Uddhav Thackeray As Anil Parab Faces ED's Heat\"\n",
      " \"Vivek Agnihotri Fumes At Kashmiri TV Artist's Death, Says 'Many Liberals Will Ignore It'\"\n",
      " \"Gyanvapi Shivling Was Damaged, Instrument Found': Hindu Side To Tell Varanasi Court\"\n",
      " \"Claiming Citizenship and Nation': Dr. Aishwarya Pandit Talks About Altering Nature Of Muslim Politics In Her Debut Book\"\n",
      " 'Chinese Visa Scam: Karti Chidambaram Gets Interim Relief Till May 30; Grilled For 6 Hours'\n",
      " \"Bharat Mata Ki Jai' Chants Echo As PM Modi Steps Out Of Cavalcade To Greet Crowd\"\n",
      " \"Mehbooba Mufti Silent On Pak Terrorists In Amreen Bhat's Murder; Slams GoI On J&K Killings\"\n",
      " 'NIA Arrests JeM Overground Worker In Sunjwan Terrorist Attack Case']\n"
     ]
    }
   ],
   "source": [
    "message = df.Headline.values\n",
    "print(message)"
   ]
  },
  {
   "cell_type": "code",
   "execution_count": 46,
   "metadata": {},
   "outputs": [],
   "source": [
    "tokenizer = Tokenizer(num_words=5000)\n",
    "tokenizer.fit_on_texts(message)\n",
    "vocab_size = len(tokenizer.word_index) + 1"
   ]
  },
  {
   "cell_type": "code",
   "execution_count": 47,
   "metadata": {},
   "outputs": [
    {
     "name": "stdout",
     "output_type": "stream",
     "text": [
      "[[  0   0   0 ...  81   2 194]\n",
      " [  0   0   0 ...  43 200 201]\n",
      " [  0   0   0 ...  11  21 207]\n",
      " ...\n",
      " [  0   0   0 ...   1 901 902]\n",
      " [  0   0   0 ...  65  66 912]\n",
      " [  0   0   0 ... 917  95  13]]\n"
     ]
    }
   ],
   "source": [
    "encoded_docs = tokenizer.texts_to_sequences(message)\n",
    "padded_sequence = pad_sequences(encoded_docs, maxlen=200)\n",
    "print(padded_sequence)"
   ]
  },
  {
   "cell_type": "code",
   "execution_count": 48,
   "metadata": {},
   "outputs": [],
   "source": [
    "model = Sequential()\n",
    "model.add(Dense(50, input_dim=200, activation='tanh'))\n",
    "model.add(Dense(30, activation=\"tanh\"))\n",
    "model.add(Dense(20, activation=\"tanh\"))\n",
    "model.add(Dense(10, activation=\"tanh\"))\n",
    "model.add(Dense(5, activation=\"tanh\"))\n",
    "model.add(Dense(2, activation='tanh'))\n",
    "model.add(Dense(1, activation='sigmoid'))"
   ]
  },
  {
   "cell_type": "code",
   "execution_count": 49,
   "metadata": {},
   "outputs": [
    {
     "name": "stdout",
     "output_type": "stream",
     "text": [
      "Model: \"sequential_5\"\n",
      "_________________________________________________________________\n",
      " Layer (type)                Output Shape              Param #   \n",
      "=================================================================\n",
      " dense_15 (Dense)            (None, 50)                10050     \n",
      "                                                                 \n",
      " dense_16 (Dense)            (None, 30)                1530      \n",
      "                                                                 \n",
      " dense_17 (Dense)            (None, 20)                620       \n",
      "                                                                 \n",
      " dense_18 (Dense)            (None, 10)                210       \n",
      "                                                                 \n",
      " dense_19 (Dense)            (None, 5)                 55        \n",
      "                                                                 \n",
      " dense_20 (Dense)            (None, 2)                 12        \n",
      "                                                                 \n",
      " dense_21 (Dense)            (None, 1)                 3         \n",
      "                                                                 \n",
      "=================================================================\n",
      "Total params: 12,480\n",
      "Trainable params: 12,480\n",
      "Non-trainable params: 0\n",
      "_________________________________________________________________\n",
      "None\n"
     ]
    }
   ],
   "source": [
    "model.compile(loss='binary_crossentropy',\n",
    "              optimizer='adam', metrics=['accuracy'])\n",
    "print(model.summary())"
   ]
  },
  {
   "cell_type": "code",
   "execution_count": 67,
   "metadata": {},
   "outputs": [
    {
     "name": "stdout",
     "output_type": "stream",
     "text": [
      "Epoch 1/50\n",
      "3/3 [==============================] - 0s 15ms/step - loss: 0.0728 - accuracy: 0.9873 - val_loss: 1.9603 - val_accuracy: 0.4500\n",
      "Epoch 2/50\n",
      "3/3 [==============================] - 0s 9ms/step - loss: 0.0728 - accuracy: 0.9873 - val_loss: 1.9606 - val_accuracy: 0.4500\n",
      "Epoch 3/50\n",
      "3/3 [==============================] - 0s 9ms/step - loss: 0.0728 - accuracy: 0.9873 - val_loss: 1.9609 - val_accuracy: 0.4500\n",
      "Epoch 4/50\n",
      "3/3 [==============================] - 0s 9ms/step - loss: 0.0727 - accuracy: 0.9873 - val_loss: 1.9615 - val_accuracy: 0.4500\n",
      "Epoch 5/50\n",
      "3/3 [==============================] - 0s 9ms/step - loss: 0.0727 - accuracy: 0.9873 - val_loss: 1.9623 - val_accuracy: 0.4500\n",
      "Epoch 6/50\n",
      "3/3 [==============================] - 0s 9ms/step - loss: 0.0727 - accuracy: 0.9873 - val_loss: 1.9631 - val_accuracy: 0.4500\n",
      "Epoch 7/50\n",
      "3/3 [==============================] - 0s 9ms/step - loss: 0.0726 - accuracy: 0.9873 - val_loss: 1.9638 - val_accuracy: 0.4500\n",
      "Epoch 8/50\n",
      "3/3 [==============================] - 0s 9ms/step - loss: 0.0726 - accuracy: 0.9873 - val_loss: 1.9648 - val_accuracy: 0.4500\n",
      "Epoch 9/50\n",
      "3/3 [==============================] - 0s 9ms/step - loss: 0.0726 - accuracy: 0.9873 - val_loss: 1.9658 - val_accuracy: 0.4500\n",
      "Epoch 10/50\n",
      "3/3 [==============================] - 0s 9ms/step - loss: 0.0725 - accuracy: 0.9873 - val_loss: 1.9667 - val_accuracy: 0.4500\n",
      "Epoch 11/50\n",
      "3/3 [==============================] - 0s 9ms/step - loss: 0.0725 - accuracy: 0.9873 - val_loss: 1.9672 - val_accuracy: 0.4500\n",
      "Epoch 12/50\n",
      "3/3 [==============================] - 0s 9ms/step - loss: 0.0725 - accuracy: 0.9873 - val_loss: 1.9673 - val_accuracy: 0.4500\n",
      "Epoch 13/50\n",
      "3/3 [==============================] - 0s 9ms/step - loss: 0.0725 - accuracy: 0.9873 - val_loss: 1.9677 - val_accuracy: 0.4500\n",
      "Epoch 14/50\n",
      "3/3 [==============================] - 0s 9ms/step - loss: 0.0724 - accuracy: 0.9873 - val_loss: 1.9683 - val_accuracy: 0.4500\n",
      "Epoch 15/50\n",
      "3/3 [==============================] - 0s 9ms/step - loss: 0.0724 - accuracy: 0.9873 - val_loss: 1.9690 - val_accuracy: 0.4500\n",
      "Epoch 16/50\n",
      "3/3 [==============================] - 0s 9ms/step - loss: 0.0724 - accuracy: 0.9873 - val_loss: 1.9698 - val_accuracy: 0.4500\n",
      "Epoch 17/50\n",
      "3/3 [==============================] - 0s 8ms/step - loss: 0.0723 - accuracy: 0.9873 - val_loss: 1.9702 - val_accuracy: 0.4500\n",
      "Epoch 18/50\n",
      "3/3 [==============================] - 0s 8ms/step - loss: 0.0723 - accuracy: 0.9873 - val_loss: 1.9707 - val_accuracy: 0.4500\n",
      "Epoch 19/50\n",
      "3/3 [==============================] - 0s 9ms/step - loss: 0.0723 - accuracy: 0.9873 - val_loss: 1.9714 - val_accuracy: 0.4500\n",
      "Epoch 20/50\n",
      "3/3 [==============================] - 0s 8ms/step - loss: 0.0723 - accuracy: 0.9873 - val_loss: 1.9724 - val_accuracy: 0.4500\n",
      "Epoch 21/50\n",
      "3/3 [==============================] - 0s 10ms/step - loss: 0.0722 - accuracy: 0.9873 - val_loss: 1.9728 - val_accuracy: 0.4500\n",
      "Epoch 22/50\n",
      "3/3 [==============================] - 0s 12ms/step - loss: 0.0722 - accuracy: 0.9873 - val_loss: 1.9734 - val_accuracy: 0.4500\n",
      "Epoch 23/50\n",
      "3/3 [==============================] - 0s 10ms/step - loss: 0.0722 - accuracy: 0.9873 - val_loss: 1.9742 - val_accuracy: 0.4500\n",
      "Epoch 24/50\n",
      "3/3 [==============================] - 0s 8ms/step - loss: 0.0722 - accuracy: 0.9873 - val_loss: 1.9751 - val_accuracy: 0.4500\n",
      "Epoch 25/50\n",
      "3/3 [==============================] - 0s 9ms/step - loss: 0.0721 - accuracy: 0.9873 - val_loss: 1.9761 - val_accuracy: 0.4500\n",
      "Epoch 26/50\n",
      "3/3 [==============================] - 0s 9ms/step - loss: 0.0721 - accuracy: 0.9873 - val_loss: 1.9770 - val_accuracy: 0.4500\n",
      "Epoch 27/50\n",
      "3/3 [==============================] - 0s 9ms/step - loss: 0.0721 - accuracy: 0.9873 - val_loss: 1.9778 - val_accuracy: 0.4500\n",
      "Epoch 28/50\n",
      "3/3 [==============================] - 0s 9ms/step - loss: 0.0720 - accuracy: 0.9873 - val_loss: 1.9787 - val_accuracy: 0.4500\n",
      "Epoch 29/50\n",
      "3/3 [==============================] - 0s 9ms/step - loss: 0.0720 - accuracy: 0.9873 - val_loss: 1.9798 - val_accuracy: 0.4500\n",
      "Epoch 30/50\n",
      "3/3 [==============================] - 0s 8ms/step - loss: 0.0720 - accuracy: 0.9873 - val_loss: 1.9807 - val_accuracy: 0.4500\n",
      "Epoch 31/50\n",
      "3/3 [==============================] - 0s 9ms/step - loss: 0.0719 - accuracy: 0.9873 - val_loss: 1.9816 - val_accuracy: 0.4500\n",
      "Epoch 32/50\n",
      "3/3 [==============================] - 0s 9ms/step - loss: 0.0719 - accuracy: 0.9873 - val_loss: 1.9826 - val_accuracy: 0.4500\n",
      "Epoch 33/50\n",
      "3/3 [==============================] - 0s 8ms/step - loss: 0.0719 - accuracy: 0.9873 - val_loss: 1.9835 - val_accuracy: 0.4500\n",
      "Epoch 34/50\n",
      "3/3 [==============================] - 0s 9ms/step - loss: 0.0719 - accuracy: 0.9873 - val_loss: 1.9838 - val_accuracy: 0.4500\n",
      "Epoch 35/50\n",
      "3/3 [==============================] - 0s 9ms/step - loss: 0.0718 - accuracy: 0.9873 - val_loss: 1.9844 - val_accuracy: 0.4500\n",
      "Epoch 36/50\n",
      "3/3 [==============================] - 0s 9ms/step - loss: 0.0718 - accuracy: 0.9873 - val_loss: 1.9850 - val_accuracy: 0.4500\n",
      "Epoch 37/50\n",
      "3/3 [==============================] - 0s 9ms/step - loss: 0.0718 - accuracy: 0.9873 - val_loss: 1.9857 - val_accuracy: 0.4500\n",
      "Epoch 38/50\n",
      "3/3 [==============================] - 0s 9ms/step - loss: 0.0718 - accuracy: 0.9873 - val_loss: 1.9865 - val_accuracy: 0.4500\n",
      "Epoch 39/50\n",
      "3/3 [==============================] - 0s 9ms/step - loss: 0.0717 - accuracy: 0.9873 - val_loss: 1.9873 - val_accuracy: 0.4500\n",
      "Epoch 40/50\n",
      "3/3 [==============================] - 0s 9ms/step - loss: 0.0717 - accuracy: 0.9873 - val_loss: 1.9883 - val_accuracy: 0.4500\n",
      "Epoch 41/50\n",
      "3/3 [==============================] - 0s 9ms/step - loss: 0.0717 - accuracy: 0.9873 - val_loss: 1.9891 - val_accuracy: 0.4500\n",
      "Epoch 42/50\n",
      "3/3 [==============================] - 0s 8ms/step - loss: 0.0716 - accuracy: 0.9873 - val_loss: 1.9900 - val_accuracy: 0.4500\n",
      "Epoch 43/50\n",
      "3/3 [==============================] - 0s 9ms/step - loss: 0.0716 - accuracy: 0.9873 - val_loss: 1.9905 - val_accuracy: 0.4500\n",
      "Epoch 44/50\n",
      "3/3 [==============================] - 0s 9ms/step - loss: 0.0716 - accuracy: 0.9873 - val_loss: 1.9905 - val_accuracy: 0.4500\n",
      "Epoch 45/50\n",
      "3/3 [==============================] - 0s 9ms/step - loss: 0.0716 - accuracy: 0.9873 - val_loss: 1.9907 - val_accuracy: 0.4500\n",
      "Epoch 46/50\n",
      "3/3 [==============================] - 0s 9ms/step - loss: 0.0715 - accuracy: 0.9873 - val_loss: 1.9908 - val_accuracy: 0.4500\n",
      "Epoch 47/50\n",
      "3/3 [==============================] - 0s 10ms/step - loss: 0.0715 - accuracy: 0.9873 - val_loss: 1.9905 - val_accuracy: 0.4500\n",
      "Epoch 48/50\n",
      "3/3 [==============================] - 0s 8ms/step - loss: 0.0715 - accuracy: 0.9873 - val_loss: 1.9906 - val_accuracy: 0.4500\n",
      "Epoch 49/50\n",
      "3/3 [==============================] - 0s 9ms/step - loss: 0.0715 - accuracy: 0.9873 - val_loss: 1.9910 - val_accuracy: 0.4500\n",
      "Epoch 50/50\n",
      "3/3 [==============================] - 0s 8ms/step - loss: 0.0715 - accuracy: 0.9873 - val_loss: 1.9915 - val_accuracy: 0.4500\n"
     ]
    }
   ],
   "source": [
    "history = model.fit(\n",
    "    padded_sequence, ham_label[0], validation_split=0.2, epochs=50, batch_size=32)"
   ]
  },
  {
   "cell_type": "code",
   "execution_count": 68,
   "metadata": {},
   "outputs": [],
   "source": [
    "def predict_sentiment(text):\n",
    "    tw = tokenizer.texts_to_sequences([text])\n",
    "    tw = pad_sequences(tw, maxlen=200)\n",
    "    prediction = int(model.predict(tw).round().item())\n",
    "    print(\"Predicted ideology: \", ham_label[1][prediction])"
   ]
  },
  {
   "cell_type": "code",
   "execution_count": 75,
   "metadata": {},
   "outputs": [
    {
     "name": "stdout",
     "output_type": "stream",
     "text": [
      "Predicted ideology:  Left\n"
     ]
    }
   ],
   "source": [
    "test_headline = \"Gujarat Govt Launches 'Aatmanirbhar Gujarat' Scheme To Boost Manufacturing Sector In State\"\n",
    "predict_sentiment(test_headline)"
   ]
  },
  {
   "cell_type": "code",
   "execution_count": 78,
   "metadata": {},
   "outputs": [
    {
     "name": "stdout",
     "output_type": "stream",
     "text": [
      "Predicted ideology:  Right\n"
     ]
    }
   ],
   "source": [
    "test_headline = \"BJP upbeat on J&K polls, banks on success of welfare schemes\"\n",
    "predict_sentiment(test_headline)"
   ]
  },
  {
   "cell_type": "code",
   "execution_count": 80,
   "metadata": {},
   "outputs": [
    {
     "name": "stdout",
     "output_type": "stream",
     "text": [
      "Predicted ideology:  Left\n"
     ]
    }
   ],
   "source": [
    "test_headline = \"US President Joe Biden Pardons All Convicted of Marijuana Possession\"\n",
    "predict_sentiment(test_headline)"
   ]
  },
  {
   "cell_type": "code",
   "execution_count": 85,
   "metadata": {},
   "outputs": [
    {
     "name": "stdout",
     "output_type": "stream",
     "text": [
      "Predicted ideology:  Left\n"
     ]
    }
   ],
   "source": [
    "test_headline = \"Despite US Finding Proof of Bribery in Indian Railways, Modi Government Has Taken No Action\"\n",
    "predict_sentiment(test_headline)"
   ]
  },
  {
   "cell_type": "code",
   "execution_count": 91,
   "metadata": {},
   "outputs": [
    {
     "name": "stdout",
     "output_type": "stream",
     "text": [
      "Predicted ideology:  Right\n"
     ]
    }
   ],
   "source": [
    "test_headline = \"BJP remark on opposition shows its arrogance:BSP\"\n",
    "predict_sentiment(test_headline)"
   ]
  },
  {
   "cell_type": "code",
   "execution_count": 103,
   "metadata": {},
   "outputs": [
    {
     "name": "stdout",
     "output_type": "stream",
     "text": [
      "Predicted ideology:  Left\n"
     ]
    }
   ],
   "source": [
    "test_headline = \"BJP worker shot dead inside showroom in Gurugram\"\n",
    "predict_sentiment(test_headline)"
   ]
  }
 ],
 "metadata": {
  "interpreter": {
   "hash": "780896bdb2b8b462a409deda6c54c33ba654c579ad1e0c51ce93287279e77e3b"
  },
  "kernelspec": {
   "display_name": "Python 3.9.5 64-bit",
   "language": "python",
   "name": "python3"
  },
  "language_info": {
   "codemirror_mode": {
    "name": "ipython",
    "version": 3
   },
   "file_extension": ".py",
   "mimetype": "text/x-python",
   "name": "python",
   "nbconvert_exporter": "python",
   "pygments_lexer": "ipython3",
   "version": "3.9.5"
  },
  "orig_nbformat": 4
 },
 "nbformat": 4,
 "nbformat_minor": 2
}
